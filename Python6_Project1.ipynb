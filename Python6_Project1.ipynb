{
 "cells": [
  {
   "cell_type": "markdown",
   "metadata": {
    "id": "IKANbe24XZxe"
   },
   "source": [
    "**Merhabalar. Bu projemizde öğrenci ad, soyad, öğrenci numarası, sınav notu gibi bilgilerin girilebileceği ve öğrencinin notuna göre kalıp kalmadığını belirleyen bir sistem oluşturduk.**"
   ]
  },
  {
   "cell_type": "markdown",
   "metadata": {
    "id": "uq5whp7MYHqx"
   },
   "source": [
    "**Öncelikle gerekli kütüphaneleri import ettik.**"
   ]
  },
  {
   "cell_type": "code",
   "execution_count": null,
   "metadata": {
    "id": "cQetLXbhHbaj"
   },
   "outputs": [],
   "source": [
    "import pandas as pd\n"
   ]
  },
  {
   "cell_type": "markdown",
   "metadata": {
    "id": "6wDLKGCHYPOv"
   },
   "source": [
    "**Öğrenci bilgilerini, harf notlarını ve geçme/kalma durumlarını kaydetmek için listeler oluşturduk.**"
   ]
  },
  {
   "cell_type": "code",
   "execution_count": null,
   "metadata": {
    "id": "IzjYvnHCHbat"
   },
   "outputs": [],
   "source": [
    "student_names = []\n",
    "student_surnames = []\n",
    "student_IDs = []\n",
    "student_grades = []\n",
    "letter_grades = []\n",
    "passed_failed = []"
   ]
  },
  {
   "cell_type": "markdown",
   "metadata": {
    "id": "3jD0WqnBYban"
   },
   "source": [
    "**Kullanıcının öğrenci bilgilerini ve notunu girebilmesi için while döngüsü kullandık. Kullanıcı buraya istediği kadar öğrenci bilgisini kaydetme, sistemden çıkmak istediğinde de name kısmına quit yazarak sistemi durdurabilmektedir.**"
   ]
  },
  {
   "cell_type": "code",
   "execution_count": null,
   "metadata": {
    "colab": {
     "base_uri": "https://localhost:8080/"
    },
    "id": "_3k-gZlWHbaw",
    "outputId": "1addbd79-2d76-4cf9-b6cb-ea70ce16777f"
   },
   "outputs": [],
   "source": [
    "while True:\n",
    "    \n",
    "    name = str(input(\"If you want to quit, type quit. If not: / Student name: \"))\n",
    "  \n",
    "    if name == \"quit\":\n",
    "        break\n",
    "\n",
    "    else: \n",
    "        name = name.capitalize() #Girilen ismin küçük harflerle girildi ise baş harfin büyütülmesi için bu satırı ekledik.\n",
    "        student_names.append(name)\n",
    "        surname = str(input(\"Student surname:\"))\n",
    "        surname = surname.capitalize()\n",
    "        student_surnames.append(surname)\n",
    "        ID = student_IDs.append(int(input(\"Student ID:\")))\n",
    "        grade = float(input(\"Student grade:\"))\n",
    "        if grade <= 100 and grade >= 0: #Girilen sınav notunun 0-100 arasında olması için böyle bir kısıt ekledik.\n",
    "            grade = student_grades.append(grade)\n",
    "        else:\n",
    "            grade = student_grades.append(float(input(\"Student an allowed grade:\"))) \n",
    "        "
   ]
  },
  {
   "cell_type": "markdown",
   "metadata": {
    "id": "Xc-OOU3fZqUU"
   },
   "source": [
    "**Bu kısımda ise harf notu aralıklarını belirledik ve öğrencinin notuna göre harf notunu ve geçme/kalma durumunu veren bir fonksiyon yazdık.**"
   ]
  },
  {
   "cell_type": "code",
   "execution_count": null,
   "metadata": {
    "id": "FWgF9XhtHba0"
   },
   "outputs": [],
   "source": [
    "def Students_Grades_and_Passed_Failed(grades): \n",
    "    for i in grades :\n",
    "        if i >= 90 and i <= 100 :\n",
    "            letter_grades.append(\"AA\")\n",
    "            passed_failed.append(\"Passed\")\n",
    "        elif i >= 80 and i < 90 :\n",
    "            letter_grades.append(\"BA\")\n",
    "            passed_failed.append(\"Passed\")\n",
    "        elif i >= 70 and i < 80 :\n",
    "            letter_grades.append(\"BB\")\n",
    "            passed_failed.append(\"Passed\")\n",
    "        elif i >= 65 and i < 70 :\n",
    "            letter_grades.append(\"CB\")\n",
    "            passed_failed.append(\"Passed\")\n",
    "        elif i >= 60 and i < 65 :\n",
    "            letter_grades.append(\"CC\")\n",
    "            passed_failed.append(\"Passed\")\n",
    "        elif i >= 55 and i < 60 :\n",
    "            letter_grades.append(\"DC\")\n",
    "            passed_failed.append(\"Passed\")\n",
    "        elif i >= 50 and i < 55 :\n",
    "            letter_grades.append(\"DD\")\n",
    "            passed_failed.append(\"Passed\")\n",
    "        else:\n",
    "            letter_grades.append(\"FF\")\n",
    "            passed_failed.append(\"Failed\")\n",
    "    return letter_grades , passed_failed"
   ]
  },
  {
   "cell_type": "code",
   "execution_count": null,
   "metadata": {
    "colab": {
     "base_uri": "https://localhost:8080/"
    },
    "id": "5TGv_mUUHba4",
    "outputId": "6356edf5-ed75-4a5a-c753-8ae5ee3c08e6"
   },
   "outputs": [],
   "source": [
    "Students_Grades_and_Passed_Failed(student_grades)"
   ]
  },
  {
   "cell_type": "markdown",
   "metadata": {
    "id": "8YQjqBihnPP6"
   },
   "source": [
    "**Öğrenci bilgilerini, harf notunu, geçme/kalma durumunu data frame haline getirmek için bu bilgileri bir dictionary'e atadık.**"
   ]
  },
  {
   "cell_type": "code",
   "execution_count": null,
   "metadata": {
    "id": "Q6GVem2aHba6"
   },
   "outputs": [],
   "source": [
    "information = {\"Name\": student_names,\n",
    "               \"Surname\": student_surnames,\n",
    "               \"ID\": student_IDs,\n",
    "               \"Grade\": student_grades,\n",
    "               \"Letter Grade\": letter_grades,\n",
    "               \"Passed/Failed\": passed_failed}"
   ]
  },
  {
   "cell_type": "code",
   "execution_count": null,
   "metadata": {
    "id": "MJn4kkoNHba8"
   },
   "outputs": [],
   "source": [
    "df = pd.DataFrame(information)\n",
    "df.index +=1"
   ]
  },
  {
   "cell_type": "code",
   "execution_count": null,
   "metadata": {
    "colab": {
     "base_uri": "https://localhost:8080/",
     "height": 81
    },
    "id": "VgG7cplYHba_",
    "outputId": "f8bc7fcc-b406-4654-96f7-4842605602ee"
   },
   "outputs": [],
   "source": [
    "df"
   ]
  },
  {
   "cell_type": "markdown",
   "metadata": {
    "id": "KwDetD_Vnjla"
   },
   "source": [
    "**Kalan ve geçen öğrencileri görebilmek için data frameden bu bilgileri çekerek yeni bir data frame oluşturduk ve bu bilgilerle bir excel dosyası oluşturduk.**"
   ]
  },
  {
   "cell_type": "code",
   "execution_count": null,
   "metadata": {
    "id": "sioffaihHbbB"
   },
   "outputs": [],
   "source": [
    "result_df = df[[\"Name\",\"Surname\",\"Passed/Failed\"]]"
   ]
  },
  {
   "cell_type": "code",
   "execution_count": null,
   "metadata": {
    "colab": {
     "base_uri": "https://localhost:8080/",
     "height": 81
    },
    "id": "F3kmMu0nHbbE",
    "outputId": "d5f80254-8a0b-43c6-f9b1-4c701f1ef0cb"
   },
   "outputs": [],
   "source": [
    "result_df"
   ]
  },
  {
   "cell_type": "code",
   "execution_count": null,
   "metadata": {
    "id": "I0NbSafLHbbI"
   },
   "outputs": [],
   "source": [
    "result_df.to_excel(\"Student_Passed_Failed.xlsx\")"
   ]
  }
 ],
 "metadata": {
  "colab": {
   "name": "Python6_Project1.ipynb",
   "provenance": []
  },
  "kernelspec": {
   "display_name": "Python 3 (ipykernel)",
   "language": "python",
   "name": "python3"
  },
  "language_info": {
   "codemirror_mode": {
    "name": "ipython",
    "version": 3
   },
   "file_extension": ".py",
   "mimetype": "text/x-python",
   "name": "python",
   "nbconvert_exporter": "python",
   "pygments_lexer": "ipython3",
   "version": "3.9.7"
  }
 },
 "nbformat": 4,
 "nbformat_minor": 1
}
